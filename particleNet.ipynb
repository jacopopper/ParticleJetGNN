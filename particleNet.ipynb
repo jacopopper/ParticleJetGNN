{
 "cells": [
  {
   "cell_type": "code",
   "execution_count": null,
   "metadata": {},
   "outputs": [],
   "source": [
    "import numpy as np\n",
    "import pandas as pd\n",
    "import seaborn as sns\n",
    "import glob\n",
    "from sklearn.model_selection import train_test_split\n",
    "import torch\n",
    "import torch.nn as nn\n",
    "import torch.nn.functional as F\n",
    "import torch.optim as optim\n",
    "from torch_geometric.data import Data\n",
    "from torch_geometric.loader import DataLoader \n",
    "from torch_geometric.nn import DynamicEdgeConv  \n",
    "from torch_geometric.nn.aggr import AttentionalAggregation \n",
    "from tqdm import tqdm\n",
    "import matplotlib.pyplot as plt\n",
    "import warnings"
   ]
  },
  {
   "cell_type": "markdown",
   "metadata": {},
   "source": [
    "DATA LOADING"
   ]
  },
  {
   "cell_type": "code",
   "execution_count": 3,
   "metadata": {},
   "outputs": [
    {
     "name": "stdout",
     "output_type": "stream",
     "text": [
      "Number of files: 5\n"
     ]
    }
   ],
   "source": [
    "def load_jets_from_npz(folder_path):\n",
    "\n",
    "    all_files = sorted(glob.glob(f\"{folder_path}/*.npz\"))\n",
    "    print(f\"Number of files: {len(all_files)}\")\n",
    "    \n",
    "    jet_list = []\n",
    "    label_list = []\n",
    "    \n",
    "    for file in all_files:\n",
    "        data = np.load(file)\n",
    "  \n",
    "        X_file = data[\"X\"]\n",
    "        y_file = data[\"y\"]\n",
    "        \n",
    "\n",
    "        for jet, label in zip(X_file, y_file):\n",
    "            jet_list.append(jet)\n",
    "            label_list.append(label)\n",
    "    \n",
    "    return jet_list, label_list\n",
    "\n",
    "folder_path = \"data/\"\n",
    "X, y = load_jets_from_npz(folder_path)\n"
   ]
  },
  {
   "cell_type": "markdown",
   "metadata": {},
   "source": [
    "**DATA PREPROCESSING**"
   ]
  },
  {
   "cell_type": "markdown",
   "metadata": {},
   "source": [
    "**Markdown Cell:**\n",
    "\n",
    "In this cell, we define the `preprocess_data` function to transform our raw jet data into a uniform format for modeling. Specifically:\n",
    "\n",
    "- **PDG Dictionaries**: We keep two dictionaries (`pdg_to_index` and `pdg_charge_dict`) to map PDG IDs to:\n",
    "  - Integer indices (for embedding purposes).\n",
    "  - Their respective charges \\((-1, 0, +1)\\).\n",
    "\n",
    "- **Logarithmic Transformation**: If `use_log_pt=True`, we apply a log transform to \\(p_T\\) for better numerical stability and dynamic range.\n",
    "\n",
    "- **Centering (η, φ)**: If `center_method=\"hardest\"`, we shift \\(\\eta\\) and \\(\\phi\\) so that the most energetic particle in each jet (i.e., the highest \\(p_T\\)) becomes the origin \\((0,0)\\). This focuses the model on relative particle positions within the jet.\n",
    "\n",
    "- **Feature Assembly**: We create a final array of shape \\((n_{\\text{particles}}, 5)\\) for each jet, stacking:\n",
    "  1. \\(p_T\\) (optionally log-transformed),\n",
    "  2. Centered \\(\\eta\\),\n",
    "  3. Centered \\(\\phi\\),\n",
    "  4. PDG index (for embedding),\n",
    "  5. Charge (integer \\(-1,0,1\\)).\n",
    "\n",
    "- **Return**: We build a list of processed jets, each with these 5 features, and return it along with the original labels (`y_labels`).\n",
    "\n",
    "This preprocessing ensures that each jet is ready for our graph-based classification network, preserving relevant physics information (like the charge and relative positions) while normalizing the data for more stable training."
   ]
  },
  {
   "cell_type": "code",
   "execution_count": 4,
   "metadata": {},
   "outputs": [],
   "source": [
    "def preprocess_data(X, y, use_log_pt=True, center_method=\"hardest\", apply_mask=True):\n",
    "\n",
    "    pdg_to_index = {\n",
    "        22: 0,    # photon\n",
    "        211: 1,   # pi+\n",
    "        -211: 2,  # pi-\n",
    "        130: 3,   # K0L\n",
    "        321: 4,   # K+\n",
    "        -321: 5,  # K-\n",
    "        2212: 6,  # proton\n",
    "        -2212: 7, # antiproton\n",
    "        2112: 8,  # neutron\n",
    "        -2112: 9, # antineutron\n",
    "        11: 10,   # electron\n",
    "        -11: 11,  # positron\n",
    "        13: 12,   # muon-\n",
    "        -13: 13,  # muon+\n",
    "        15: 14,   # tau-\n",
    "        -15: 15,  # tau+\n",
    "        24: 16,   # W+\n",
    "        -24: 17   # W-\n",
    "    }\n",
    "    pdg_charge_dict = {\n",
    "        22: 0,\n",
    "        211: 1,\n",
    "        -211: -1,\n",
    "        130: 0,\n",
    "        321: 1,\n",
    "        -321: -1,\n",
    "        2212: 1,\n",
    "        -2212: -1,\n",
    "        2112: 0,\n",
    "        -2112: 0,\n",
    "        11: -1,\n",
    "        -11: 1,\n",
    "        13: -1,\n",
    "        -13: 1,\n",
    "        15: -1,\n",
    "        -15: 1,\n",
    "        24: 1,\n",
    "        -24: -1\n",
    "    }\n",
    "    \n",
    "    processed_list = []\n",
    "    \n",
    "    for jet in X:\n",
    "   \n",
    "        pt  = jet[:, 0].copy()   # pT\n",
    "        eta = jet[:, 1].copy()   # eta\n",
    "        phi = jet[:, 2].copy()   # phi\n",
    "        pdg = jet[:, 3].copy()   # pdgID\n",
    "        \n",
    "        mask = pt > 0\n",
    "        \n",
    "        if use_log_pt:\n",
    "            pt = np.log(pt + 1e-9)\n",
    "        \n",
    "        if center_method == \"hardest\":\n",
    "            valid_indices = np.where(mask)[0]\n",
    "            if valid_indices.size > 0:\n",
    "                max_idx = valid_indices[np.argmax(jet[valid_indices, 0])]\n",
    "                center_eta = eta[max_idx]\n",
    "                center_phi = phi[max_idx]\n",
    "                eta = eta - center_eta\n",
    "                phi = phi - center_phi\n",
    "        \n",
    "        pdg_index = np.vectorize(lambda x: pdg_to_index.get(x, 0))(pdg)\n",
    "        \n",
    "        charge = np.vectorize(lambda x: pdg_charge_dict.get(x, 0))(pdg)\n",
    "        \n",
    "        processed_jet = np.stack([pt, eta, phi, pdg_index, charge], axis=-1)\n",
    "        processed_list.append(processed_jet)\n",
    "        \n",
    "    return processed_list, y\n",
    "\n",
    "particle_list, y_labels = preprocess_data(X, y, use_log_pt=True, center_method=\"hardest\", apply_mask=True)\n"
   ]
  },
  {
   "cell_type": "markdown",
   "metadata": {},
   "source": [
    "**DATA PREPARATION**"
   ]
  },
  {
   "cell_type": "markdown",
   "metadata": {},
   "source": [
    "**Markdown Cell:**\n",
    "\n",
    "We split our processed jet data into training and test sets using an 80/20 ratio, ensuring our model can be trained on one subset of jets while being evaluated on a different subset. Then, we define the `create_pyg_dataset` function, which converts each jet (and its label) into a PyTorch Geometric `Data` object. Each `Data` object contains:\n",
    "- `x`: a tensor of shape \\((\\text{n_particles}, 5)\\) with features such as \\(p_T\\), \\(\\eta\\), \\(\\phi\\), PDG index, and charge,\n",
    "- `y`: an integer label indicating the class (e.g., quark vs. gluon).\n",
    "\n",
    "By returning a list of these `Data` objects, we can easily feed them into a PyTorch Geometric `DataLoader` to handle batching, shuffling, and other training-related operations."
   ]
  },
  {
   "cell_type": "code",
   "execution_count": 5,
   "metadata": {},
   "outputs": [
    {
     "name": "stdout",
     "output_type": "stream",
     "text": [
      "Number of jets in the training set: 400000\n",
      "Number of jets in the test set: 100000\n"
     ]
    }
   ],
   "source": [
    "particle_train, particle_test, y_train, y_test = train_test_split(\n",
    "    particle_list, y_labels, test_size=0.2, random_state=42\n",
    ")\n",
    "\n",
    "print(\"Number of jets in the training set:\", len(particle_train))\n",
    "print(\"Number of jets in the test set:\", len(particle_test))"
   ]
  },
  {
   "cell_type": "code",
   "execution_count": 6,
   "metadata": {},
   "outputs": [],
   "source": [
    "def create_pyg_dataset(particle_list, labels):\n",
    "    data_list = []\n",
    "    for jet, label in zip(particle_list, labels):\n",
    "        x = torch.tensor(jet, dtype=torch.float)\n",
    "        y = torch.tensor(label.astype(int), dtype=torch.long)\n",
    "        data = Data(x=x, y=y)\n",
    "        data_list.append(data)\n",
    "    return data_list"
   ]
  },
  {
   "cell_type": "markdown",
   "metadata": {},
   "source": [
    "**MODELLING**"
   ]
  },
  {
   "cell_type": "markdown",
   "metadata": {},
   "source": [
    "This model, **ParticleNet**, uses DynamicEdgeConv layers to build a graph from particle features, then aggregates the node representations with an attention-based pooling. Each particle’s PDG ID is mapped to an embedding, and continuous features (\\(p_T\\), \\(\\eta\\), \\(\\phi\\), charge) are concatenated before passing through three EdgeConv blocks. The final node embeddings are aggregated via attention, and the resulting vector goes through fully connected layers for classification."
   ]
  },
  {
   "cell_type": "code",
   "execution_count": 7,
   "metadata": {},
   "outputs": [],
   "source": [
    "class ParticleNet(nn.Module):\n",
    "    def __init__(self, k=8, continuous_dim=4, num_classes=2, pdg_vocab_size=18, embedding_dim=8):\n",
    "        super(ParticleNet, self).__init__()\n",
    "        self.pdg_embedding = nn.Embedding(num_embeddings=pdg_vocab_size, embedding_dim=embedding_dim)\n",
    "        input_dim = 3 + 1 + embedding_dim\n",
    "        self.edgeconv1 = DynamicEdgeConv(nn.Sequential(\n",
    "            nn.Linear(2 * input_dim, 64),\n",
    "            nn.ReLU(),\n",
    "            nn.BatchNorm1d(64)\n",
    "        ), k=k)\n",
    "        self.edgeconv2 = DynamicEdgeConv(nn.Sequential(\n",
    "            nn.Linear(2 * 64, 128),\n",
    "            nn.ReLU(),\n",
    "            nn.BatchNorm1d(128)\n",
    "        ), k=k)\n",
    "        self.edgeconv3 = DynamicEdgeConv(nn.Sequential(\n",
    "            nn.Linear(2 * 128, 256),\n",
    "            nn.ReLU(),\n",
    "            nn.BatchNorm1d(256)\n",
    "        ), k=k)\n",
    "        self.att_pool = AttentionalAggregation( \n",
    "            gate_nn=nn.Sequential(\n",
    "                nn.Linear(256, 128),\n",
    "                nn.ReLU(),\n",
    "                nn.Linear(128, 1)\n",
    "            )\n",
    "        )\n",
    "        self.fc1 = nn.Linear(256, 128)\n",
    "        self.dropout = nn.Dropout(0.5)\n",
    "        self.fc2 = nn.Linear(128, num_classes)\n",
    "\n",
    "    def forward(self, x, batch):\n",
    "        continuous = x[:, [0, 1, 2, 4]]\n",
    "        pdg_index = x[:, 3].long()\n",
    "        pdg_emb = self.pdg_embedding(pdg_index)\n",
    "        x = torch.cat([continuous, pdg_emb], dim=-1)\n",
    "        x = self.edgeconv1(x, batch)\n",
    "        x = self.edgeconv2(x, batch)\n",
    "        x = self.edgeconv3(x, batch)\n",
    "        x_pool = self.att_pool(x, batch)\n",
    "        x_fc = F.relu(self.fc1(x_pool))\n",
    "        x_fc = self.dropout(x_fc)\n",
    "        out = self.fc2(x_fc)\n",
    "        return out"
   ]
  },
  {
   "cell_type": "markdown",
   "metadata": {},
   "source": [
    "**TRAIN & TEST**"
   ]
  },
  {
   "cell_type": "markdown",
   "metadata": {},
   "source": [
    "We convert our training and test splits into PyTorch Geometric datasets, create DataLoader objects with a chosen batch size, and move everything to a GPU if available. The `train` function performs a forward/backward pass for each batch, computing the CrossEntropy loss and updating model parameters. The `test` function evaluates accuracy on a given DataLoader. We train the model for 30 epochs, tracking loss and accuracy on both training and test sets at the end of each epoch."
   ]
  },
  {
   "cell_type": "code",
   "execution_count": 8,
   "metadata": {},
   "outputs": [
    {
     "name": "stderr",
     "output_type": "stream",
     "text": [
      "                                                                                   \r"
     ]
    },
    {
     "name": "stdout",
     "output_type": "stream",
     "text": [
      "Epoch: 01, Loss: 0.4637, Train Acc: 0.7952, Test Acc: 0.7941\n"
     ]
    },
    {
     "name": "stderr",
     "output_type": "stream",
     "text": [
      "                                                                                   \r"
     ]
    },
    {
     "name": "stdout",
     "output_type": "stream",
     "text": [
      "Epoch: 02, Loss: 0.4378, Train Acc: 0.8106, Test Acc: 0.8111\n"
     ]
    },
    {
     "name": "stderr",
     "output_type": "stream",
     "text": [
      "                                                                                   \r"
     ]
    },
    {
     "name": "stdout",
     "output_type": "stream",
     "text": [
      "Epoch: 03, Loss: 0.4263, Train Acc: 0.8175, Test Acc: 0.8164\n"
     ]
    },
    {
     "name": "stderr",
     "output_type": "stream",
     "text": [
      "                                                                                   \r"
     ]
    },
    {
     "name": "stdout",
     "output_type": "stream",
     "text": [
      "Epoch: 04, Loss: 0.4184, Train Acc: 0.8200, Test Acc: 0.8189\n"
     ]
    },
    {
     "name": "stderr",
     "output_type": "stream",
     "text": [
      "                                                                                   \r"
     ]
    },
    {
     "name": "stdout",
     "output_type": "stream",
     "text": [
      "Epoch: 05, Loss: 0.4123, Train Acc: 0.8247, Test Acc: 0.8233\n"
     ]
    },
    {
     "name": "stderr",
     "output_type": "stream",
     "text": [
      "                                                                                   \r"
     ]
    },
    {
     "name": "stdout",
     "output_type": "stream",
     "text": [
      "Epoch: 06, Loss: 0.4076, Train Acc: 0.8269, Test Acc: 0.8249\n"
     ]
    },
    {
     "name": "stderr",
     "output_type": "stream",
     "text": [
      "                                                                                   \r"
     ]
    },
    {
     "name": "stdout",
     "output_type": "stream",
     "text": [
      "Epoch: 07, Loss: 0.4052, Train Acc: 0.8280, Test Acc: 0.8261\n"
     ]
    },
    {
     "name": "stderr",
     "output_type": "stream",
     "text": [
      "                                                                                   \r"
     ]
    },
    {
     "name": "stdout",
     "output_type": "stream",
     "text": [
      "Epoch: 08, Loss: 0.4029, Train Acc: 0.8288, Test Acc: 0.8260\n"
     ]
    },
    {
     "name": "stderr",
     "output_type": "stream",
     "text": [
      "                                                                                   \r"
     ]
    },
    {
     "name": "stdout",
     "output_type": "stream",
     "text": [
      "Epoch: 09, Loss: 0.4012, Train Acc: 0.8284, Test Acc: 0.8262\n"
     ]
    },
    {
     "name": "stderr",
     "output_type": "stream",
     "text": [
      "                                                                                    \r"
     ]
    },
    {
     "name": "stdout",
     "output_type": "stream",
     "text": [
      "Epoch: 10, Loss: 0.3991, Train Acc: 0.8306, Test Acc: 0.8277\n"
     ]
    },
    {
     "name": "stderr",
     "output_type": "stream",
     "text": [
      "                                                                                    \r"
     ]
    },
    {
     "name": "stdout",
     "output_type": "stream",
     "text": [
      "Epoch: 11, Loss: 0.3983, Train Acc: 0.8313, Test Acc: 0.8276\n"
     ]
    },
    {
     "name": "stderr",
     "output_type": "stream",
     "text": [
      "                                                                                    \r"
     ]
    },
    {
     "name": "stdout",
     "output_type": "stream",
     "text": [
      "Epoch: 12, Loss: 0.3963, Train Acc: 0.8330, Test Acc: 0.8292\n"
     ]
    },
    {
     "name": "stderr",
     "output_type": "stream",
     "text": [
      "                                                                                    \r"
     ]
    },
    {
     "name": "stdout",
     "output_type": "stream",
     "text": [
      "Epoch: 13, Loss: 0.3959, Train Acc: 0.8324, Test Acc: 0.8287\n"
     ]
    },
    {
     "name": "stderr",
     "output_type": "stream",
     "text": [
      "                                                                                    \r"
     ]
    },
    {
     "name": "stdout",
     "output_type": "stream",
     "text": [
      "Epoch: 14, Loss: 0.3947, Train Acc: 0.8347, Test Acc: 0.8303\n"
     ]
    },
    {
     "name": "stderr",
     "output_type": "stream",
     "text": [
      "                                                                                    \r"
     ]
    },
    {
     "name": "stdout",
     "output_type": "stream",
     "text": [
      "Epoch: 15, Loss: 0.3935, Train Acc: 0.8356, Test Acc: 0.8313\n"
     ]
    },
    {
     "name": "stderr",
     "output_type": "stream",
     "text": [
      "                                                                                    \r"
     ]
    },
    {
     "name": "stdout",
     "output_type": "stream",
     "text": [
      "Epoch: 16, Loss: 0.3925, Train Acc: 0.8369, Test Acc: 0.8326\n"
     ]
    },
    {
     "name": "stderr",
     "output_type": "stream",
     "text": [
      "                                                                                    \r"
     ]
    },
    {
     "name": "stdout",
     "output_type": "stream",
     "text": [
      "Epoch: 17, Loss: 0.3913, Train Acc: 0.8371, Test Acc: 0.8317\n"
     ]
    },
    {
     "name": "stderr",
     "output_type": "stream",
     "text": [
      "                                                                                    \r"
     ]
    },
    {
     "name": "stdout",
     "output_type": "stream",
     "text": [
      "Epoch: 18, Loss: 0.3906, Train Acc: 0.8379, Test Acc: 0.8318\n"
     ]
    },
    {
     "name": "stderr",
     "output_type": "stream",
     "text": [
      "                                                                                    \r"
     ]
    },
    {
     "name": "stdout",
     "output_type": "stream",
     "text": [
      "Epoch: 19, Loss: 0.3893, Train Acc: 0.8355, Test Acc: 0.8284\n"
     ]
    },
    {
     "name": "stderr",
     "output_type": "stream",
     "text": [
      "                                                                                    \r"
     ]
    },
    {
     "name": "stdout",
     "output_type": "stream",
     "text": [
      "Epoch: 20, Loss: 0.3887, Train Acc: 0.8383, Test Acc: 0.8316\n"
     ]
    },
    {
     "name": "stderr",
     "output_type": "stream",
     "text": [
      "                                                                                    \r"
     ]
    },
    {
     "name": "stdout",
     "output_type": "stream",
     "text": [
      "Epoch: 21, Loss: 0.3874, Train Acc: 0.8385, Test Acc: 0.8311\n"
     ]
    },
    {
     "name": "stderr",
     "output_type": "stream",
     "text": [
      "                                                                                    \r"
     ]
    },
    {
     "name": "stdout",
     "output_type": "stream",
     "text": [
      "Epoch: 22, Loss: 0.3866, Train Acc: 0.8383, Test Acc: 0.8322\n"
     ]
    },
    {
     "name": "stderr",
     "output_type": "stream",
     "text": [
      "                                                                                    \r"
     ]
    },
    {
     "name": "stdout",
     "output_type": "stream",
     "text": [
      "Epoch: 23, Loss: 0.3861, Train Acc: 0.8397, Test Acc: 0.8338\n"
     ]
    },
    {
     "name": "stderr",
     "output_type": "stream",
     "text": [
      "                                                                                    \r"
     ]
    },
    {
     "name": "stdout",
     "output_type": "stream",
     "text": [
      "Epoch: 24, Loss: 0.3853, Train Acc: 0.8400, Test Acc: 0.8331\n"
     ]
    },
    {
     "name": "stderr",
     "output_type": "stream",
     "text": [
      "                                                                                    \r"
     ]
    },
    {
     "name": "stdout",
     "output_type": "stream",
     "text": [
      "Epoch: 25, Loss: 0.3848, Train Acc: 0.8396, Test Acc: 0.8317\n"
     ]
    },
    {
     "name": "stderr",
     "output_type": "stream",
     "text": [
      "                                                                                    \r"
     ]
    },
    {
     "name": "stdout",
     "output_type": "stream",
     "text": [
      "Epoch: 26, Loss: 0.3837, Train Acc: 0.8403, Test Acc: 0.8305\n"
     ]
    },
    {
     "name": "stderr",
     "output_type": "stream",
     "text": [
      "                                                                                    \r"
     ]
    },
    {
     "name": "stdout",
     "output_type": "stream",
     "text": [
      "Epoch: 27, Loss: 0.3831, Train Acc: 0.8411, Test Acc: 0.8318\n"
     ]
    },
    {
     "name": "stderr",
     "output_type": "stream",
     "text": [
      "                                                                                    \r"
     ]
    },
    {
     "name": "stdout",
     "output_type": "stream",
     "text": [
      "Epoch: 28, Loss: 0.3824, Train Acc: 0.8429, Test Acc: 0.8332\n"
     ]
    },
    {
     "name": "stderr",
     "output_type": "stream",
     "text": [
      "                                                                                    \r"
     ]
    },
    {
     "name": "stdout",
     "output_type": "stream",
     "text": [
      "Epoch: 29, Loss: 0.3811, Train Acc: 0.8432, Test Acc: 0.8336\n"
     ]
    },
    {
     "name": "stderr",
     "output_type": "stream",
     "text": [
      "                                                                                    \r"
     ]
    },
    {
     "name": "stdout",
     "output_type": "stream",
     "text": [
      "Epoch: 30, Loss: 0.3810, Train Acc: 0.8423, Test Acc: 0.8328\n"
     ]
    }
   ],
   "source": [
    "train_dataset = create_pyg_dataset(particle_train, y_train)\n",
    "test_dataset  = create_pyg_dataset(particle_test, y_test)\n",
    "\n",
    "batch_size = 128\n",
    "train_loader = DataLoader(train_dataset, batch_size=batch_size, shuffle=True)\n",
    "test_loader  = DataLoader(test_dataset, batch_size=batch_size, shuffle=False)\n",
    "\n",
    "device = torch.device('cuda' if torch.cuda.is_available() else 'cpu')\n",
    "\n",
    "model = ParticleNet().to(device)\n",
    "criterion = nn.CrossEntropyLoss()\n",
    "optimizer = torch.optim.Adam(model.parameters(), lr=0.001)\n",
    "\n",
    "def train(epoch):\n",
    "    model.train()\n",
    "    total_loss = 0\n",
    "    pbar = tqdm(train_loader, desc=f\"Epoch {epoch} - Training\", leave=False)\n",
    "    for data in pbar:\n",
    "        data = data.to(device)\n",
    "        optimizer.zero_grad()\n",
    "        out = model(data.x, data.batch)\n",
    "        loss = criterion(out, data.y.view(-1))\n",
    "        loss.backward()\n",
    "        optimizer.step()\n",
    "        total_loss += loss.item() * data.num_graphs\n",
    "        pbar.set_postfix(loss=loss.item())\n",
    "    return total_loss / len(train_dataset)\n",
    "\n",
    "def test(loader, phase=\"Test\"):\n",
    "    model.eval()\n",
    "    correct = 0\n",
    "    total = 0\n",
    "    pbar = tqdm(loader, desc=f\"{phase} Phase\", leave=False)\n",
    "    with torch.no_grad():\n",
    "        for data in pbar:\n",
    "            data = data.to(device)\n",
    "            out = model(data.x, data.batch)\n",
    "            pred = out.argmax(dim=1)\n",
    "            correct += (pred == data.y.view(-1)).sum().item()\n",
    "            total += data.num_graphs\n",
    "            pbar.set_postfix(acc=correct/total if total > 0 else 0)\n",
    "    return correct / total\n",
    "\n",
    "num_epochs = 30\n",
    "train_losses = []\n",
    "train_accs = []\n",
    "test_accs = []\n",
    "\n",
    "for epoch in range(1, num_epochs+1):\n",
    "    loss = train(epoch)\n",
    "    train_acc = test(train_loader, phase=\"Train\")\n",
    "    test_acc = test(test_loader, phase=\"Test\")\n",
    "    \n",
    "    train_losses.append(loss)\n",
    "    train_accs.append(train_acc)\n",
    "    test_accs.append(test_acc)\n",
    "    \n",
    "    print(f\"Epoch: {epoch:02d}, Loss: {loss:.4f}, Train Acc: {train_acc:.4f}, Test Acc: {test_acc:.4f}\")"
   ]
  },
  {
   "cell_type": "markdown",
   "metadata": {},
   "source": [
    "**VISUALIZE RESULT**"
   ]
  },
  {
   "cell_type": "code",
   "execution_count": 9,
   "metadata": {},
   "outputs": [
    {
     "data": {
      "image/png": "[encoded data removed]",
      "text/plain": [
       "<Figure size 1400x500 with 2 Axes>"
      ]
     },
     "metadata": {},
     "output_type": "display_data"
    }
   ],
   "source": [
    "epochs = range(1, num_epochs + 1)\n",
    "fig, axs = plt.subplots(1, 2, figsize=(14, 5))\n",
    "axs[0].plot(epochs, train_losses, marker='o', linestyle='-', color='blue', label=\"Training Loss\")\n",
    "axs[0].set_xlabel(\"Epoch\")\n",
    "axs[0].set_ylabel(\"Loss\")\n",
    "axs[0].set_title(\"Training Loss per Epoch\")\n",
    "axs[0].legend()\n",
    "axs[0].grid(True)\n",
    "axs[1].plot(epochs, train_accs, marker='o', linestyle='-', color='green', label=\"Train Accuracy\")\n",
    "axs[1].plot(epochs, test_accs, marker='s', linestyle='-', color='red', label=\"Test Accuracy\")\n",
    "axs[1].set_xlabel(\"Epoch\")\n",
    "axs[1].set_ylabel(\"Accuracy\")\n",
    "axs[1].set_title(\"Accuracy per Epoch\")\n",
    "axs[1].legend()\n",
    "axs[1].grid(True)\n",
    "plt.tight_layout()\n",
    "plt.show()\n"
   ]
  },
  {
   "cell_type": "markdown",
   "metadata": {},
   "source": [
    "From the training loss plot (left), we see a steady decrease, indicating that the model is learning effectively. On the right, both training and test accuracies improve over epochs, with the training accuracy surpassing the test accuracy as expected. The model achieves over 83% test accuracy, suggesting it can meaningfully distinguish between quark and gluon jets."
   ]
  }
 ],
 "metadata": {
  "kernelspec": {
   "display_name": "mldl",
   "language": "python",
   "name": "python3"
  },
  "language_info": {
   "codemirror_mode": {
    "name": "ipython",
    "version": 3
   },
   "file_extension": ".py",
   "mimetype": "text/x-python",
   "name": "python",
   "nbconvert_exporter": "python",
   "pygments_lexer": "ipython3",
   "version": "3.10.16"
  }
 },
 "nbformat": 4,
 "nbformat_minor": 2
}
